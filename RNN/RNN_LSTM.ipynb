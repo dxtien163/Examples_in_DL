{
 "cells": [
  {
   "cell_type": "markdown",
   "metadata": {},
   "source": [
    "# Time Series Prediction\n",
    "\n",
    "References: [Machine Learning Mastery blog](https://machinelearningmastery.com/time-series-prediction-lstm-recurrent-neural-networks-python-keras/)."
   ]
  },
  {
   "cell_type": "markdown",
   "metadata": {},
   "source": [
    "## Import libraries"
   ]
  },
  {
   "cell_type": "code",
   "execution_count": 1,
   "metadata": {},
   "outputs": [
    {
     "name": "stderr",
     "output_type": "stream",
     "text": [
      "Using TensorFlow backend.\n"
     ]
    }
   ],
   "source": [
    "import numpy as np\n",
    "import matplotlib.pyplot as plt\n",
    "import pandas as pd\n",
    "import math\n",
    "from keras.models import Sequential\n",
    "from keras.layers import Dense\n",
    "from keras.layers import LSTM, SimpleRNN\n",
    "from sklearn.preprocessing import MinMaxScaler\n",
    "from sklearn.metrics import mean_squared_error\n",
    "\n",
    "# fix random seed for reproducibility\n",
    "np.random.seed(10)"
   ]
  },
  {
   "cell_type": "markdown",
   "metadata": {},
   "source": [
    "## Load data"
   ]
  },
  {
   "cell_type": "code",
   "execution_count": 2,
   "metadata": {},
   "outputs": [
    {
     "data": {
      "text/plain": [
       "<function matplotlib.pyplot.show(*args, **kw)>"
      ]
     },
     "execution_count": 2,
     "metadata": {},
     "output_type": "execute_result"
    },
    {
     "data": {
      "image/png": "[encoded data removed]",
      "text/plain": [
       "<Figure size 432x288 with 1 Axes>"
      ]
     },
     "metadata": {
      "needs_background": "light"
     },
     "output_type": "display_data"
    }
   ],
   "source": [
    "dataframe = pd.read_csv('./airline-passengers.csv', usecols=[1], engine='python')\n",
    "\n",
    "# plot dataset\n",
    "plt.plot(dataframe)\n",
    "plt.show"
   ]
  },
  {
   "cell_type": "markdown",
   "metadata": {},
   "source": [
    "## Data normalization"
   ]
  },
  {
   "cell_type": "code",
   "execution_count": 14,
   "metadata": {},
   "outputs": [],
   "source": [
    "dataset = dataframe.values\n",
    "dataset = dataset.astype('float32')\n",
    "# normalize the dataset\n",
    "scaler = MinMaxScaler(feature_range=(0, 1))\n",
    "dataset = scaler.fit_transform(dataset)"
   ]
  },
  {
   "cell_type": "markdown",
   "metadata": {},
   "source": [
    "## Split data into training and testing set"
   ]
  },
  {
   "cell_type": "code",
   "execution_count": 15,
   "metadata": {},
   "outputs": [
    {
     "name": "stdout",
     "output_type": "stream",
     "text": [
      "Size of training set  100\n",
      "Size of testing set  44\n"
     ]
    }
   ],
   "source": [
    "train_size = int(len(dataset) * 0.7)\n",
    "test_size = len(dataset) - train_size\n",
    "train, test = dataset[0:train_size,:], dataset[train_size:len(dataset),:]\n",
    "\n",
    "print(\"Size of training set \", len(train))\n",
    "print(\"Size of testing set \", len(test))"
   ]
  },
  {
   "cell_type": "code",
   "execution_count": 5,
   "metadata": {},
   "outputs": [],
   "source": [
    "# convert an array of values into a dataset matrix\n",
    "def create_dataset(dataset, look_back=1):\n",
    "    dataX = []\n",
    "    dataY = []\n",
    "    \n",
    "    for i in range(len(dataset)-look_back):\n",
    "        a = dataset[i:(i+look_back), 0]\n",
    "        dataX.append(a)\n",
    "        dataY.append(dataset[i + look_back, 0])\n",
    "    return np.array(dataX), np.array(dataY)"
   ]
  },
  {
   "cell_type": "code",
   "execution_count": 16,
   "metadata": {},
   "outputs": [],
   "source": [
    "# reshape into X=t and Y=t+1\n",
    "look_back = 1\n",
    "trainX, trainY = create_dataset(train, look_back)\n",
    "testX, testY = create_dataset(test, look_back)\n",
    "\n",
    "trainX = np.reshape(trainX, (trainX.shape[0], 1, trainX.shape[1]))\n",
    "testX = np.reshape(testX, (testX.shape[0], 1, testX.shape[1]))"
   ]
  },
  {
   "cell_type": "markdown",
   "metadata": {},
   "source": [
    "## Vanilla RNN"
   ]
  },
  {
   "cell_type": "markdown",
   "metadata": {},
   "source": [
    "### Define model"
   ]
  },
  {
   "cell_type": "code",
   "execution_count": 21,
   "metadata": {},
   "outputs": [
    {
     "name": "stdout",
     "output_type": "stream",
     "text": [
      "_________________________________________________________________\n",
      "Layer (type)                 Output Shape              Param #   \n",
      "=================================================================\n",
      "simple_rnn_2 (SimpleRNN)     (None, 4)                 24        \n",
      "_________________________________________________________________\n",
      "dense_5 (Dense)              (None, 1)                 5         \n",
      "=================================================================\n",
      "Total params: 29\n",
      "Trainable params: 29\n",
      "Non-trainable params: 0\n",
      "_________________________________________________________________\n"
     ]
    }
   ],
   "source": [
    "model = Sequential()\n",
    "model.add(SimpleRNN(4, input_shape=(1, look_back)))\n",
    "model.add(Dense(1))\n",
    "model.compile(loss='mean_squared_error', optimizer='adam')\n",
    "model.summary()"
   ]
  },
  {
   "cell_type": "markdown",
   "metadata": {},
   "source": [
    "### Training"
   ]
  },
  {
   "cell_type": "code",
   "execution_count": 22,
   "metadata": {},
   "outputs": [
    {
     "name": "stdout",
     "output_type": "stream",
     "text": [
      "Epoch 1/100\n",
      "99/99 [==============================] - 1s 7ms/step - loss: 0.0744\n",
      "Epoch 2/100\n",
      "99/99 [==============================] - 0s 3ms/step - loss: 0.0290\n",
      "Epoch 3/100\n",
      "99/99 [==============================] - 0s 3ms/step - loss: 0.0221\n",
      "Epoch 4/100\n",
      "99/99 [==============================] - 0s 3ms/step - loss: 0.0189\n",
      "Epoch 5/100\n",
      "99/99 [==============================] - 0s 3ms/step - loss: 0.0163\n",
      "Epoch 6/100\n",
      "99/99 [==============================] - 0s 3ms/step - loss: 0.0138\n",
      "Epoch 7/100\n",
      "99/99 [==============================] - 0s 3ms/step - loss: 0.0117\n",
      "Epoch 8/100\n",
      "99/99 [==============================] - 0s 4ms/step - loss: 0.0094\n",
      "Epoch 9/100\n",
      "99/99 [==============================] - 0s 3ms/step - loss: 0.0075\n",
      "Epoch 10/100\n",
      "99/99 [==============================] - 0s 3ms/step - loss: 0.0060\n",
      "Epoch 11/100\n",
      "99/99 [==============================] - 0s 3ms/step - loss: 0.0048\n",
      "Epoch 12/100\n",
      "99/99 [==============================] - 0s 3ms/step - loss: 0.0038\n",
      "Epoch 13/100\n",
      "99/99 [==============================] - 0s 3ms/step - loss: 0.0031\n",
      "Epoch 14/100\n",
      "99/99 [==============================] - 0s 3ms/step - loss: 0.0027\n",
      "Epoch 15/100\n",
      "99/99 [==============================] - 0s 3ms/step - loss: 0.0024\n",
      "Epoch 16/100\n",
      "99/99 [==============================] - 0s 3ms/step - loss: 0.0023\n",
      "Epoch 17/100\n",
      "99/99 [==============================] - 0s 3ms/step - loss: 0.0021\n",
      "Epoch 18/100\n",
      "99/99 [==============================] - 0s 3ms/step - loss: 0.0021\n",
      "Epoch 19/100\n",
      "99/99 [==============================] - 0s 3ms/step - loss: 0.0021\n",
      "Epoch 20/100\n",
      "99/99 [==============================] - 0s 3ms/step - loss: 0.0021\n",
      "Epoch 21/100\n",
      "99/99 [==============================] - 0s 3ms/step - loss: 0.0021\n",
      "Epoch 22/100\n",
      "99/99 [==============================] - 0s 3ms/step - loss: 0.0021\n",
      "Epoch 23/100\n",
      "99/99 [==============================] - 0s 3ms/step - loss: 0.0021\n",
      "Epoch 24/100\n",
      "99/99 [==============================] - 0s 3ms/step - loss: 0.0022\n",
      "Epoch 25/100\n",
      "99/99 [==============================] - 0s 3ms/step - loss: 0.0021\n",
      "Epoch 26/100\n",
      "99/99 [==============================] - 0s 3ms/step - loss: 0.0021\n",
      "Epoch 27/100\n",
      "99/99 [==============================] - 0s 3ms/step - loss: 0.0020\n",
      "Epoch 28/100\n",
      "99/99 [==============================] - 0s 3ms/step - loss: 0.0021\n",
      "Epoch 29/100\n",
      "99/99 [==============================] - 0s 3ms/step - loss: 0.0021\n",
      "Epoch 30/100\n",
      "99/99 [==============================] - 0s 3ms/step - loss: 0.0021\n",
      "Epoch 31/100\n",
      "99/99 [==============================] - 0s 3ms/step - loss: 0.0021\n",
      "Epoch 32/100\n",
      "99/99 [==============================] - 0s 3ms/step - loss: 0.0020\n",
      "Epoch 33/100\n",
      "99/99 [==============================] - 0s 3ms/step - loss: 0.0021\n",
      "Epoch 34/100\n",
      "99/99 [==============================] - 0s 3ms/step - loss: 0.0021\n",
      "Epoch 35/100\n",
      "99/99 [==============================] - 0s 3ms/step - loss: 0.0021\n",
      "Epoch 36/100\n",
      "99/99 [==============================] - 0s 4ms/step - loss: 0.0021\n",
      "Epoch 37/100\n",
      "99/99 [==============================] - 0s 3ms/step - loss: 0.0020\n",
      "Epoch 38/100\n",
      "99/99 [==============================] - 0s 3ms/step - loss: 0.0021\n",
      "Epoch 39/100\n",
      "99/99 [==============================] - 0s 3ms/step - loss: 0.0021\n",
      "Epoch 40/100\n",
      "99/99 [==============================] - 0s 3ms/step - loss: 0.0020\n",
      "Epoch 41/100\n",
      "99/99 [==============================] - 0s 3ms/step - loss: 0.0021\n",
      "Epoch 42/100\n",
      "99/99 [==============================] - 0s 3ms/step - loss: 0.0020\n",
      "Epoch 43/100\n",
      "99/99 [==============================] - 0s 3ms/step - loss: 0.0021\n",
      "Epoch 44/100\n",
      "99/99 [==============================] - 0s 3ms/step - loss: 0.0021\n",
      "Epoch 45/100\n",
      "99/99 [==============================] - 0s 3ms/step - loss: 0.0021\n",
      "Epoch 46/100\n",
      "99/99 [==============================] - 0s 4ms/step - loss: 0.0021\n",
      "Epoch 47/100\n",
      "99/99 [==============================] - 0s 3ms/step - loss: 0.0020\n",
      "Epoch 48/100\n",
      "99/99 [==============================] - 0s 3ms/step - loss: 0.0022\n",
      "Epoch 49/100\n",
      "99/99 [==============================] - 0s 3ms/step - loss: 0.0020\n",
      "Epoch 50/100\n",
      "99/99 [==============================] - 0s 3ms/step - loss: 0.0021\n",
      "Epoch 51/100\n",
      "99/99 [==============================] - 0s 3ms/step - loss: 0.0021\n",
      "Epoch 52/100\n",
      "99/99 [==============================] - 0s 3ms/step - loss: 0.0021\n",
      "Epoch 53/100\n",
      "99/99 [==============================] - 0s 3ms/step - loss: 0.0021\n",
      "Epoch 54/100\n",
      "99/99 [==============================] - 0s 3ms/step - loss: 0.0021\n",
      "Epoch 55/100\n",
      "99/99 [==============================] - 0s 4ms/step - loss: 0.0022\n",
      "Epoch 56/100\n",
      "99/99 [==============================] - 0s 3ms/step - loss: 0.0021\n",
      "Epoch 57/100\n",
      "99/99 [==============================] - 0s 3ms/step - loss: 0.0021\n",
      "Epoch 58/100\n",
      "99/99 [==============================] - 0s 3ms/step - loss: 0.0021\n",
      "Epoch 59/100\n",
      "99/99 [==============================] - 0s 3ms/step - loss: 0.0020\n",
      "Epoch 60/100\n",
      "99/99 [==============================] - 0s 3ms/step - loss: 0.0021\n",
      "Epoch 61/100\n",
      "99/99 [==============================] - 0s 3ms/step - loss: 0.0021\n",
      "Epoch 62/100\n",
      "99/99 [==============================] - 0s 3ms/step - loss: 0.0021\n",
      "Epoch 63/100\n",
      "99/99 [==============================] - 0s 3ms/step - loss: 0.0021\n",
      "Epoch 64/100\n",
      "99/99 [==============================] - 0s 5ms/step - loss: 0.0021\n",
      "Epoch 65/100\n",
      "99/99 [==============================] - 0s 4ms/step - loss: 0.0021\n",
      "Epoch 66/100\n",
      "99/99 [==============================] - 0s 3ms/step - loss: 0.0021\n",
      "Epoch 67/100\n",
      "99/99 [==============================] - 0s 3ms/step - loss: 0.0021\n",
      "Epoch 68/100\n",
      "99/99 [==============================] - 0s 3ms/step - loss: 0.0021\n",
      "Epoch 69/100\n",
      "99/99 [==============================] - 0s 3ms/step - loss: 0.0021\n",
      "Epoch 70/100\n",
      "99/99 [==============================] - 0s 3ms/step - loss: 0.0021\n",
      "Epoch 71/100\n",
      "99/99 [==============================] - 0s 4ms/step - loss: 0.0021\n",
      "Epoch 72/100\n",
      "99/99 [==============================] - 0s 4ms/step - loss: 0.0021\n",
      "Epoch 73/100\n",
      "99/99 [==============================] - 0s 3ms/step - loss: 0.0020\n",
      "Epoch 74/100\n",
      "99/99 [==============================] - 0s 3ms/step - loss: 0.0021\n",
      "Epoch 75/100\n",
      "99/99 [==============================] - 0s 3ms/step - loss: 0.0021\n",
      "Epoch 76/100\n",
      "99/99 [==============================] - 0s 3ms/step - loss: 0.0020\n",
      "Epoch 77/100\n",
      "99/99 [==============================] - 0s 4ms/step - loss: 0.0021\n",
      "Epoch 78/100\n",
      "99/99 [==============================] - 0s 3ms/step - loss: 0.0021\n",
      "Epoch 79/100\n",
      "99/99 [==============================] - 0s 3ms/step - loss: 0.0021\n",
      "Epoch 80/100\n",
      "99/99 [==============================] - 0s 3ms/step - loss: 0.0021\n",
      "Epoch 81/100\n",
      "99/99 [==============================] - 0s 3ms/step - loss: 0.0021\n",
      "Epoch 82/100\n",
      "99/99 [==============================] - 0s 3ms/step - loss: 0.0022\n",
      "Epoch 83/100\n",
      "99/99 [==============================] - 0s 3ms/step - loss: 0.0021\n",
      "Epoch 84/100\n",
      "99/99 [==============================] - 0s 3ms/step - loss: 0.0020\n",
      "Epoch 85/100\n",
      "99/99 [==============================] - 0s 4ms/step - loss: 0.0021\n",
      "Epoch 86/100\n",
      "99/99 [==============================] - 0s 3ms/step - loss: 0.0021\n",
      "Epoch 87/100\n",
      "99/99 [==============================] - 0s 4ms/step - loss: 0.0021\n",
      "Epoch 88/100\n",
      "99/99 [==============================] - 0s 3ms/step - loss: 0.0023\n",
      "Epoch 89/100\n",
      "99/99 [==============================] - 0s 4ms/step - loss: 0.0022\n",
      "Epoch 90/100\n",
      "99/99 [==============================] - 0s 3ms/step - loss: 0.0021\n",
      "Epoch 91/100\n",
      "99/99 [==============================] - 0s 4ms/step - loss: 0.0021\n",
      "Epoch 92/100\n",
      "99/99 [==============================] - 0s 3ms/step - loss: 0.0020\n",
      "Epoch 93/100\n",
      "99/99 [==============================] - 0s 3ms/step - loss: 0.0021\n",
      "Epoch 94/100\n",
      "99/99 [==============================] - 0s 3ms/step - loss: 0.0021\n",
      "Epoch 95/100\n",
      "99/99 [==============================] - 0s 3ms/step - loss: 0.0021\n",
      "Epoch 96/100\n",
      "99/99 [==============================] - 0s 3ms/step - loss: 0.0021\n",
      "Epoch 97/100\n",
      "99/99 [==============================] - 0s 4ms/step - loss: 0.0021\n",
      "Epoch 98/100\n",
      "99/99 [==============================] - 0s 4ms/step - loss: 0.0021\n",
      "Epoch 99/100\n",
      "99/99 [==============================] - 0s 4ms/step - loss: 0.0021\n",
      "Epoch 100/100\n",
      "99/99 [==============================] - 0s 3ms/step - loss: 0.0021\n"
     ]
    },
    {
     "data": {
      "text/plain": [
       "<keras.callbacks.History at 0x1d6fac86080>"
      ]
     },
     "execution_count": 22,
     "metadata": {},
     "output_type": "execute_result"
    }
   ],
   "source": [
    "# Training\n",
    "model.fit(trainX, trainY, epochs=100, batch_size=1, verbose=1)"
   ]
  },
  {
   "cell_type": "markdown",
   "metadata": {},
   "source": [
    "### Evaluation"
   ]
  },
  {
   "cell_type": "code",
   "execution_count": 23,
   "metadata": {},
   "outputs": [
    {
     "name": "stdout",
     "output_type": "stream",
     "text": [
      "Train Score: 23.18 RMSE\n",
      "Test Score: 52.60 RMSE\n"
     ]
    },
    {
     "data": {
      "image/png": "[encoded data removed]",
      "text/plain": [
       "<Figure size 432x288 with 1 Axes>"
      ]
     },
     "metadata": {
      "needs_background": "light"
     },
     "output_type": "display_data"
    }
   ],
   "source": [
    "# make predictions\n",
    "trainPredict = model.predict(trainX)\n",
    "testPredict = model.predict(testX)\n",
    "\n",
    "# invert predictions\n",
    "trainPredict = scaler.inverse_transform(trainPredict)\n",
    "trainY_ = scaler.inverse_transform([trainY])\n",
    "testPredict = scaler.inverse_transform(testPredict)\n",
    "testY_ = scaler.inverse_transform([testY])\n",
    "\n",
    "# calculate root mean squared error\n",
    "trainScore = math.sqrt(mean_squared_error(trainY_[0], trainPredict[:,0]))\n",
    "print('Train Score: %.2f RMSE' % (trainScore))\n",
    "testScore = math.sqrt(mean_squared_error(testY_[0], testPredict[:,0]))\n",
    "print('Test Score: %.2f RMSE' % (testScore))\n",
    "\n",
    "# shift train predictions for plotting\n",
    "trainPredictPlot = np.empty_like(dataset)\n",
    "trainPredictPlot[:, :] = np.nan\n",
    "trainPredictPlot[look_back:len(trainPredict)+look_back, :] = trainPredict\n",
    "\n",
    "# shift test predictions for plotting\n",
    "testPredictPlot = np.empty_like(dataset)\n",
    "testPredictPlot[:, :] = np.nan\n",
    "testPredictPlot[len(trainPredict)+(look_back*2):len(dataset), :] = testPredict\n",
    "\n",
    "# plot baseline and predictions\n",
    "plt.plot(scaler.inverse_transform(dataset))\n",
    "plt.plot(trainPredictPlot)\n",
    "plt.plot(testPredictPlot)\n",
    "plt.show()"
   ]
  },
  {
   "cell_type": "markdown",
   "metadata": {},
   "source": [
    "## LSTM"
   ]
  },
  {
   "cell_type": "markdown",
   "metadata": {},
   "source": [
    "### Define model"
   ]
  },
  {
   "cell_type": "code",
   "execution_count": 24,
   "metadata": {},
   "outputs": [
    {
     "name": "stdout",
     "output_type": "stream",
     "text": [
      "_________________________________________________________________\n",
      "Layer (type)                 Output Shape              Param #   \n",
      "=================================================================\n",
      "lstm_4 (LSTM)                (None, 4)                 96        \n",
      "_________________________________________________________________\n",
      "dense_6 (Dense)              (None, 1)                 5         \n",
      "=================================================================\n",
      "Total params: 101\n",
      "Trainable params: 101\n",
      "Non-trainable params: 0\n",
      "_________________________________________________________________\n"
     ]
    }
   ],
   "source": [
    "model = Sequential()\n",
    "model.add(LSTM(4, input_shape=(1, look_back)))\n",
    "model.add(Dense(1))\n",
    "model.compile(loss='mean_squared_error', optimizer='adam')\n",
    "model.summary()"
   ]
  },
  {
   "cell_type": "markdown",
   "metadata": {},
   "source": [
    "### Training"
   ]
  },
  {
   "cell_type": "code",
   "execution_count": 25,
   "metadata": {},
   "outputs": [
    {
     "name": "stdout",
     "output_type": "stream",
     "text": [
      "Epoch 1/100\n",
      "99/99 [==============================] - 1s 13ms/step - loss: 0.0639\n",
      "Epoch 2/100\n",
      "99/99 [==============================] - 0s 5ms/step - loss: 0.0330\n",
      "Epoch 3/100\n",
      "99/99 [==============================] - 0s 5ms/step - loss: 0.0235\n",
      "Epoch 4/100\n",
      "99/99 [==============================] - 1s 5ms/step - loss: 0.0209\n",
      "Epoch 5/100\n",
      "99/99 [==============================] - 1s 5ms/step - loss: 0.0196\n",
      "Epoch 6/100\n",
      "99/99 [==============================] - 0s 5ms/step - loss: 0.0185\n",
      "Epoch 7/100\n",
      "99/99 [==============================] - 1s 5ms/step - loss: 0.0174\n",
      "Epoch 8/100\n",
      "99/99 [==============================] - 0s 5ms/step - loss: 0.0162\n",
      "Epoch 9/100\n",
      "99/99 [==============================] - 0s 5ms/step - loss: 0.0150\n",
      "Epoch 10/100\n",
      "99/99 [==============================] - 0s 5ms/step - loss: 0.0138\n",
      "Epoch 11/100\n",
      "99/99 [==============================] - 0s 5ms/step - loss: 0.0120\n",
      "Epoch 12/100\n",
      "99/99 [==============================] - 0s 5ms/step - loss: 0.0104\n",
      "Epoch 13/100\n",
      "99/99 [==============================] - 0s 5ms/step - loss: 0.0088\n",
      "Epoch 14/100\n",
      "99/99 [==============================] - 1s 5ms/step - loss: 0.0071\n",
      "Epoch 15/100\n",
      "99/99 [==============================] - 0s 5ms/step - loss: 0.0057\n",
      "Epoch 16/100\n",
      "99/99 [==============================] - 0s 5ms/step - loss: 0.0045\n",
      "Epoch 17/100\n",
      "99/99 [==============================] - 0s 5ms/step - loss: 0.0036\n",
      "Epoch 18/100\n",
      "99/99 [==============================] - 0s 5ms/step - loss: 0.0029\n",
      "Epoch 19/100\n",
      "99/99 [==============================] - 1s 5ms/step - loss: 0.0025\n",
      "Epoch 20/100\n",
      "99/99 [==============================] - 1s 5ms/step - loss: 0.0024\n",
      "Epoch 21/100\n",
      "99/99 [==============================] - 1s 5ms/step - loss: 0.0023\n",
      "Epoch 22/100\n",
      "99/99 [==============================] - 0s 5ms/step - loss: 0.0022\n",
      "Epoch 23/100\n",
      "99/99 [==============================] - 1s 5ms/step - loss: 0.0022\n",
      "Epoch 24/100\n",
      "99/99 [==============================] - 1s 5ms/step - loss: 0.0022\n",
      "Epoch 25/100\n",
      "99/99 [==============================] - 1s 5ms/step - loss: 0.0022\n",
      "Epoch 26/100\n",
      "99/99 [==============================] - 1s 5ms/step - loss: 0.0022\n",
      "Epoch 27/100\n",
      "99/99 [==============================] - 0s 5ms/step - loss: 0.0021\n",
      "Epoch 28/100\n",
      "99/99 [==============================] - 0s 5ms/step - loss: 0.0021\n",
      "Epoch 29/100\n",
      "99/99 [==============================] - 0s 5ms/step - loss: 0.0022\n",
      "Epoch 30/100\n",
      "99/99 [==============================] - 0s 5ms/step - loss: 0.0022\n",
      "Epoch 31/100\n",
      "99/99 [==============================] - 1s 5ms/step - loss: 0.0021\n",
      "Epoch 32/100\n",
      "99/99 [==============================] - 0s 5ms/step - loss: 0.0022\n",
      "Epoch 33/100\n",
      "99/99 [==============================] - 1s 5ms/step - loss: 0.0022\n",
      "Epoch 34/100\n",
      "99/99 [==============================] - 1s 5ms/step - loss: 0.0022\n",
      "Epoch 35/100\n",
      "99/99 [==============================] - 1s 5ms/step - loss: 0.0021\n",
      "Epoch 36/100\n",
      "99/99 [==============================] - 0s 5ms/step - loss: 0.0022\n",
      "Epoch 37/100\n",
      "99/99 [==============================] - 0s 5ms/step - loss: 0.0022\n",
      "Epoch 38/100\n",
      "99/99 [==============================] - 0s 5ms/step - loss: 0.0022\n",
      "Epoch 39/100\n",
      "99/99 [==============================] - 0s 5ms/step - loss: 0.0021\n",
      "Epoch 40/100\n",
      "99/99 [==============================] - 0s 5ms/step - loss: 0.0022\n",
      "Epoch 41/100\n",
      "99/99 [==============================] - 0s 5ms/step - loss: 0.0021\n",
      "Epoch 42/100\n",
      "99/99 [==============================] - 0s 5ms/step - loss: 0.0022\n",
      "Epoch 43/100\n",
      "99/99 [==============================] - 0s 5ms/step - loss: 0.0022\n",
      "Epoch 44/100\n",
      "99/99 [==============================] - 0s 5ms/step - loss: 0.0022\n",
      "Epoch 45/100\n",
      "99/99 [==============================] - 1s 5ms/step - loss: 0.0022\n",
      "Epoch 46/100\n",
      "99/99 [==============================] - 0s 5ms/step - loss: 0.0022\n",
      "Epoch 47/100\n",
      "99/99 [==============================] - 0s 5ms/step - loss: 0.0022\n",
      "Epoch 48/100\n",
      "99/99 [==============================] - 1s 5ms/step - loss: 0.0022\n",
      "Epoch 49/100\n",
      "99/99 [==============================] - 0s 5ms/step - loss: 0.0022\n",
      "Epoch 50/100\n",
      "99/99 [==============================] - 0s 5ms/step - loss: 0.0021\n",
      "Epoch 51/100\n",
      "99/99 [==============================] - 1s 5ms/step - loss: 0.0022\n",
      "Epoch 52/100\n",
      "99/99 [==============================] - 1s 5ms/step - loss: 0.0021\n",
      "Epoch 53/100\n",
      "99/99 [==============================] - 0s 5ms/step - loss: 0.0021\n",
      "Epoch 54/100\n",
      "99/99 [==============================] - 0s 5ms/step - loss: 0.0021\n",
      "Epoch 55/100\n",
      "99/99 [==============================] - 0s 5ms/step - loss: 0.0021\n",
      "Epoch 56/100\n",
      "99/99 [==============================] - 0s 5ms/step - loss: 0.0022\n",
      "Epoch 57/100\n",
      "99/99 [==============================] - 0s 5ms/step - loss: 0.0022\n",
      "Epoch 58/100\n",
      "99/99 [==============================] - 1s 5ms/step - loss: 0.0021\n",
      "Epoch 59/100\n",
      "99/99 [==============================] - 0s 5ms/step - loss: 0.0021\n",
      "Epoch 60/100\n",
      "99/99 [==============================] - 0s 5ms/step - loss: 0.0021\n",
      "Epoch 61/100\n",
      "99/99 [==============================] - 0s 5ms/step - loss: 0.0021\n",
      "Epoch 62/100\n",
      "99/99 [==============================] - 1s 5ms/step - loss: 0.0021\n",
      "Epoch 63/100\n",
      "99/99 [==============================] - 1s 5ms/step - loss: 0.0021\n",
      "Epoch 64/100\n",
      "99/99 [==============================] - 0s 5ms/step - loss: 0.0022\n",
      "Epoch 65/100\n",
      "99/99 [==============================] - 0s 5ms/step - loss: 0.0021\n",
      "Epoch 66/100\n",
      "99/99 [==============================] - 0s 5ms/step - loss: 0.0022\n",
      "Epoch 67/100\n",
      "99/99 [==============================] - 1s 5ms/step - loss: 0.0022\n",
      "Epoch 68/100\n",
      "99/99 [==============================] - 0s 5ms/step - loss: 0.0022\n",
      "Epoch 69/100\n",
      "99/99 [==============================] - 1s 5ms/step - loss: 0.0022\n",
      "Epoch 70/100\n",
      "99/99 [==============================] - 1s 5ms/step - loss: 0.0022\n",
      "Epoch 71/100\n",
      "99/99 [==============================] - 1s 5ms/step - loss: 0.0021\n",
      "Epoch 72/100\n",
      "99/99 [==============================] - 0s 5ms/step - loss: 0.0022\n",
      "Epoch 73/100\n",
      "99/99 [==============================] - 1s 5ms/step - loss: 0.0021\n",
      "Epoch 74/100\n",
      "99/99 [==============================] - 0s 5ms/step - loss: 0.0021\n",
      "Epoch 75/100\n",
      "99/99 [==============================] - 1s 6ms/step - loss: 0.0020\n",
      "Epoch 76/100\n",
      "99/99 [==============================] - 1s 5ms/step - loss: 0.0022\n",
      "Epoch 77/100\n",
      "99/99 [==============================] - 1s 5ms/step - loss: 0.0021\n",
      "Epoch 78/100\n",
      "99/99 [==============================] - 0s 5ms/step - loss: 0.0021\n",
      "Epoch 79/100\n",
      "99/99 [==============================] - 1s 5ms/step - loss: 0.0021\n",
      "Epoch 80/100\n",
      "99/99 [==============================] - 0s 5ms/step - loss: 0.0021\n",
      "Epoch 81/100\n",
      "99/99 [==============================] - 0s 5ms/step - loss: 0.0021\n",
      "Epoch 82/100\n",
      "99/99 [==============================] - 1s 5ms/step - loss: 0.0022\n",
      "Epoch 83/100\n",
      "99/99 [==============================] - 1s 5ms/step - loss: 0.0021\n",
      "Epoch 84/100\n",
      "99/99 [==============================] - 1s 5ms/step - loss: 0.0021\n",
      "Epoch 85/100\n",
      "99/99 [==============================] - 1s 5ms/step - loss: 0.0021\n",
      "Epoch 86/100\n",
      "99/99 [==============================] - 1s 5ms/step - loss: 0.0021\n",
      "Epoch 87/100\n",
      "99/99 [==============================] - 1s 5ms/step - loss: 0.0021\n",
      "Epoch 88/100\n",
      "99/99 [==============================] - 1s 5ms/step - loss: 0.0021\n",
      "Epoch 89/100\n",
      "99/99 [==============================] - 1s 5ms/step - loss: 0.0021\n",
      "Epoch 90/100\n",
      "99/99 [==============================] - 1s 5ms/step - loss: 0.0021\n",
      "Epoch 91/100\n",
      "99/99 [==============================] - 1s 5ms/step - loss: 0.0021\n",
      "Epoch 92/100\n",
      "99/99 [==============================] - 1s 5ms/step - loss: 0.0021\n",
      "Epoch 93/100\n",
      "99/99 [==============================] - 1s 5ms/step - loss: 0.0021\n",
      "Epoch 94/100\n",
      "99/99 [==============================] - 1s 5ms/step - loss: 0.0021\n",
      "Epoch 95/100\n",
      "99/99 [==============================] - 1s 5ms/step - loss: 0.0021\n",
      "Epoch 96/100\n",
      "99/99 [==============================] - 0s 5ms/step - loss: 0.0021\n",
      "Epoch 97/100\n",
      "99/99 [==============================] - 1s 5ms/step - loss: 0.0021\n",
      "Epoch 98/100\n",
      "99/99 [==============================] - 1s 5ms/step - loss: 0.0021\n",
      "Epoch 99/100\n",
      "99/99 [==============================] - 1s 5ms/step - loss: 0.0021\n",
      "Epoch 100/100\n",
      "99/99 [==============================] - 1s 5ms/step - loss: 0.0021\n"
     ]
    },
    {
     "data": {
      "text/plain": [
       "<keras.callbacks.History at 0x1d6f8cd4ac8>"
      ]
     },
     "execution_count": 25,
     "metadata": {},
     "output_type": "execute_result"
    }
   ],
   "source": [
    "# Training\n",
    "model.fit(trainX, trainY, epochs=100, batch_size=1, verbose=1)"
   ]
  },
  {
   "cell_type": "markdown",
   "metadata": {},
   "source": [
    "### Evaluation"
   ]
  },
  {
   "cell_type": "code",
   "execution_count": 26,
   "metadata": {},
   "outputs": [
    {
     "name": "stdout",
     "output_type": "stream",
     "text": [
      "Train Score: 23.44 RMSE\n",
      "Test Score: 50.17 RMSE\n"
     ]
    },
    {
     "data": {
      "image/png": "[encoded data removed]",
      "text/plain": [
       "<Figure size 432x288 with 1 Axes>"
      ]
     },
     "metadata": {
      "needs_background": "light"
     },
     "output_type": "display_data"
    }
   ],
   "source": [
    "# make predictions\n",
    "trainPredict = model.predict(trainX)\n",
    "testPredict = model.predict(testX)\n",
    "\n",
    "# invert predictions\n",
    "trainPredict = scaler.inverse_transform(trainPredict)\n",
    "trainY_ = scaler.inverse_transform([trainY])\n",
    "testPredict = scaler.inverse_transform(testPredict)\n",
    "testY_ = scaler.inverse_transform([testY])\n",
    "\n",
    "# calculate root mean squared error\n",
    "trainScore = math.sqrt(mean_squared_error(trainY_[0], trainPredict[:,0]))\n",
    "print('Train Score: %.2f RMSE' % (trainScore))\n",
    "testScore = math.sqrt(mean_squared_error(testY_[0], testPredict[:,0]))\n",
    "print('Test Score: %.2f RMSE' % (testScore))\n",
    "\n",
    "# shift train predictions for plotting\n",
    "trainPredictPlot = np.empty_like(dataset)\n",
    "trainPredictPlot[:, :] = np.nan\n",
    "trainPredictPlot[look_back:len(trainPredict)+look_back, :] = trainPredict\n",
    "\n",
    "# shift test predictions for plotting\n",
    "testPredictPlot = np.empty_like(dataset)\n",
    "testPredictPlot[:, :] = np.nan\n",
    "testPredictPlot[len(trainPredict)+(look_back*2):len(dataset), :] = testPredict\n",
    "\n",
    "# plot baseline and predictions\n",
    "plt.plot(scaler.inverse_transform(dataset))\n",
    "plt.plot(trainPredictPlot)\n",
    "plt.plot(testPredictPlot)\n",
    "plt.show()"
   ]
  }
 ],
 "metadata": {
  "kernelspec": {
   "display_name": "Py35_keras",
   "language": "python",
   "name": "py35_kr"
  },
  "language_info": {
   "codemirror_mode": {
    "name": "ipython",
    "version": 3
   },
   "file_extension": ".py",
   "mimetype": "text/x-python",
   "name": "python",
   "nbconvert_exporter": "python",
   "pygments_lexer": "ipython3",
   "version": "3.5.6"
  }
 },
 "nbformat": 4,
 "nbformat_minor": 2
}
