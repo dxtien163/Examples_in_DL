{
 "cells": [
  {
   "cell_type": "markdown",
   "metadata": {},
   "source": [
    "# Machine Translation using Google API"
   ]
  },
  {
   "cell_type": "markdown",
   "metadata": {},
   "source": [
    "To do this task, we need:\n",
    "* Create a google API file. Create a Google API file. Check the file [Create_GG_API.pdf](https://github.com/dxtien163/Examples_in_DL/blob/master/Machine_Translation/Create_GG_API.pdf) for further information.\n",
    "* Install libraries: pip install google-cloud-translate==1.4.0 google-cloud-storage==1.14.0 pycountry==18.12.8"
   ]
  },
  {
   "cell_type": "markdown",
   "metadata": {},
   "source": [
    "## Import Libraries"
   ]
  },
  {
   "cell_type": "code",
   "execution_count": 2,
   "metadata": {},
   "outputs": [],
   "source": [
    "from translation import SimpleTranslation"
   ]
  },
  {
   "cell_type": "code",
   "execution_count": 3,
   "metadata": {},
   "outputs": [],
   "source": [
    "import os\n",
    "os.environ[\"GOOGLE_APPLICATION_CREDENTIALS\"] = \"./dxtien.json\" # Replace \"./dxtien.json\" with your API file."
   ]
  },
  {
   "cell_type": "markdown",
   "metadata": {},
   "source": [
    "## Translation: English to Korean"
   ]
  },
  {
   "cell_type": "code",
   "execution_count": 4,
   "metadata": {},
   "outputs": [
    {
     "name": "stdout",
     "output_type": "stream",
     "text": [
      "To EXIT program please type \"stop\"\n",
      "\n"
     ]
    },
    {
     "name": "stdin",
     "output_type": "stream",
     "text": [
      "Enter your sentence here  Hello my name is T\n"
     ]
    },
    {
     "name": "stdout",
     "output_type": "stream",
     "text": [
      "Text: Hello my name is T\n",
      "Translation: 안녕하세요 제 이름은 T입니다\n"
     ]
    },
    {
     "name": "stdin",
     "output_type": "stream",
     "text": [
      "Enter your sentence here  how are you?\n"
     ]
    },
    {
     "name": "stdout",
     "output_type": "stream",
     "text": [
      "Text: how are you?\n",
      "Translation: 어떻게 지내?\n"
     ]
    },
    {
     "name": "stdin",
     "output_type": "stream",
     "text": [
      "Enter your sentence here  stop\n"
     ]
    }
   ],
   "source": [
    "# Get input from keyboard\n",
    "print('To EXIT program please type \"stop\"\\n')\n",
    "while True:\n",
    "    in_str = input(\"Enter your sentence here \")\n",
    "    \n",
    "    if in_str == \"stop\":\n",
    "        break\n",
    "    \n",
    "    translator = SimpleTranslation(source_language='en', target_language='ko')\n",
    "    translator(in_str)"
   ]
  },
  {
   "cell_type": "markdown",
   "metadata": {},
   "source": [
    "## Translation: Korean to English"
   ]
  },
  {
   "cell_type": "code",
   "execution_count": 5,
   "metadata": {},
   "outputs": [
    {
     "name": "stdout",
     "output_type": "stream",
     "text": [
      "To EXIT program please type \"stop\"\n",
      "\n"
     ]
    },
    {
     "name": "stdin",
     "output_type": "stream",
     "text": [
      "Enter your sentence here  안녕하세요 제 이름은 T입니다\n"
     ]
    },
    {
     "name": "stdout",
     "output_type": "stream",
     "text": [
      "Text: 안녕하세요 제 이름은 T입니다\n",
      "Translation: Hello my name is T\n"
     ]
    },
    {
     "name": "stdin",
     "output_type": "stream",
     "text": [
      "Enter your sentence here  어떻게 지내?\n"
     ]
    },
    {
     "name": "stdout",
     "output_type": "stream",
     "text": [
      "Text: 어떻게 지내?\n",
      "Translation: How are you?\n"
     ]
    },
    {
     "name": "stdin",
     "output_type": "stream",
     "text": [
      "Enter your sentence here  stop\n"
     ]
    }
   ],
   "source": [
    "# Get input from keyboard\n",
    "print('To EXIT program please type \"stop\"\\n')\n",
    "while True:\n",
    "    in_str = input(\"Enter your sentence here \")\n",
    "    \n",
    "    if in_str == \"stop\":\n",
    "        break\n",
    "    \n",
    "    translator = SimpleTranslation(source_language='ko', target_language='en')\n",
    "    translator(in_str)"
   ]
  }
 ],
 "metadata": {
  "kernelspec": {
   "display_name": "Py35_keras",
   "language": "python",
   "name": "py35_kr"
  },
  "language_info": {
   "codemirror_mode": {
    "name": "ipython",
    "version": 3
   },
   "file_extension": ".py",
   "mimetype": "text/x-python",
   "name": "python",
   "nbconvert_exporter": "python",
   "pygments_lexer": "ipython3",
   "version": "3.5.6"
  }
 },
 "nbformat": 4,
 "nbformat_minor": 2
}
